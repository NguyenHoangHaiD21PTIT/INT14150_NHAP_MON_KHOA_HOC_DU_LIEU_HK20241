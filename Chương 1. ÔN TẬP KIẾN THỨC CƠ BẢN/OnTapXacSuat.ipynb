{
  "cells": [
    {
      "cell_type": "markdown",
      "metadata": {},
      "source": [
        "**ÔN TẬP PHÂN PHỐI XÁC SUẤT VÀ KIỂM ĐỊNH GIẢ THUYẾT THỐNG KÊ**"
      ]
    },
    {
      "cell_type": "markdown",
      "metadata": {
        "id": "bPy5ff4BbxU2"
      },
      "source": [
        "**Bài tập 1.** Tạo một dãy dữ liệu cách đều nhau trong phạm vi từ -20 đến 20 và\n",
        "minh hoạ đồ thị của phân phối chuẩn tương ứng.\n"
      ]
    },
    {
      "cell_type": "code",
      "execution_count": 1,
      "metadata": {
        "colab": {
          "base_uri": "https://localhost:8080/",
          "height": 430
        },
        "id": "UsFTz9dVh5ho",
        "outputId": "ac7ad0cf-1302-4eac-a4fc-8c9a4ae7d2d0"
      },
      "outputs": [
        {
          "data": {
            "image/png": "[encoded data removed]",
            "text/plain": [
              "<Figure size 640x480 with 1 Axes>"
            ]
          },
          "metadata": {},
          "output_type": "display_data"
        }
      ],
      "source": [
        "import numpy as np\n",
        "import matplotlib.pyplot as plt\n",
        "from scipy.stats import norm\n",
        "\n",
        "import statistics\n",
        "# Plot between -20 and 20 with .001 steps.\n",
        "x_axis = np.arange(-20, 20, 0.01)\n",
        "# Calculating mean and standard deviation\n",
        "mean = statistics.mean(x_axis) #Trung bình\n",
        "sd = statistics.stdev(x_axis) #Độ lệch chuẩn\n",
        "plt.plot(x_axis, norm.pdf(x_axis, mean, sd))\n",
        "plt.show()"
      ]
    },
    {
      "cell_type": "markdown",
      "metadata": {
        "id": "sx-_cYRQb60m"
      },
      "source": [
        "**Bài tập 2.** Ước lượng bằng khoảng tin cậy 95% chiều cao trung bình của một tổng\n",
        "thể cây dựa vào mẫu quan sát gồm độ cao của 22 cây sau:\n",
        "11, 12, 12.5, 13, 13, 15.5, 16, 17, 22, 23, 25, 26, 27, 28, 28, 29, 30, 32,\n",
        "33, 33, 34, 34"
      ]
    },
    {
      "cell_type": "markdown",
      "metadata": {
        "id": "vHqCTH-xcq2f"
      },
      "source": [
        "Trong ví dụ này, cỡ mẫu là n = 22 < 30 và chưa biết phương sai nên ta sử dụng phân phối student (t.interval() function) để xác định khoảng tin cậy.\n"
      ]
    },
    {
      "cell_type": "code",
      "execution_count": 18,
      "metadata": {
        "colab": {
          "base_uri": "https://localhost:8080/"
        },
        "id": "7cLlxyS0b6Q1",
        "outputId": "360edf5b-5c79-4bd9-8aef-c8b0605f9a3d"
      },
      "outputs": [
        {
          "data": {
            "text/plain": [
              "(19.741437014367897, 26.98583571290483)"
            ]
          },
          "execution_count": 18,
          "metadata": {},
          "output_type": "execute_result"
        }
      ],
      "source": [
        "import numpy as np\n",
        "import scipy.stats as st\n",
        "\n",
        "# Dữ liệu mẫu\n",
        "data = [11, 12, 12.5, 13, 13, 15.5, 16, 17, 22, 23,\n",
        "        25, 26, 27, 28, 28, 29, 30, 32, 33, 33, 34, 34]\n",
        "\n",
        "# Tạo khoảng tin cậy 95%\n",
        "st.t.interval(confidence=0.95,     # mức tin cậy 95%\n",
        "              df=len(data)-1,      # bậc tự do = số lượng mẫu - 1\n",
        "              loc=np.mean(data),   # trung bình mẫu\n",
        "              scale=st.sem(data))  # sai số chuẩn của trung bình mẫu\n"
      ]
    },
    {
      "cell_type": "markdown",
      "metadata": {
        "id": "B1iGGzROitNr"
      },
      "source": [
        "**Bài tập 3**. Ước lượng bằng khoảng tin cậy 95% chiều cao trung bình của một tổng\n",
        "thể cây dựa vào mẫu quan sát gồm độ cao của 33 cây sau:\n",
        "11, 11, 11.5, 11.5, 11.5, 12, 12, 12, 12.5, 13, 13, 15.5, 16, 17, 22,\n",
        "23, 25, 26, 27, 28, 28, 29, 30, 32, 33, 33, 34, 34, 35, 35, 35.5, 35.5, 36.\n"
      ]
    },
    {
      "cell_type": "markdown",
      "metadata": {
        "id": "mXjTWK8Si6Bs"
      },
      "source": [
        "Trong ví dụ này, cỡ mẫu là n = 33 > 30 và chưa biết phương sai nên ta sử dụng\n",
        "phân phối chuẩn (norm.interval() function) để xác định khoảng tin cậy"
      ]
    },
    {
      "cell_type": "code",
      "execution_count": 30,
      "metadata": {
        "colab": {
          "base_uri": "https://localhost:8080/"
        },
        "id": "KZoOmXHqjIpp",
        "outputId": "06df1ae6-3f8b-487b-f72b-4762272b06c4"
      },
      "outputs": [
        {
          "name": "stdout",
          "output_type": "stream",
          "text": [
            "1.6732866118508953\n"
          ]
        },
        {
          "data": {
            "text/plain": [
              "(19.765873050413738, 26.325036040495355)"
            ]
          },
          "execution_count": 30,
          "metadata": {},
          "output_type": "execute_result"
        }
      ],
      "source": [
        "import numpy as np\n",
        "import scipy.stats as st\n",
        "\n",
        "# Định nghĩa dữ liệu mẫu\n",
        "data = [11, 11, 11.5, 11.5, 11.5, 12, 12, 12, 12.5, 13, 13,\n",
        "        15.5, 16, 17, 22, 23, 25, 26, 27, 28, 28, 29, 30, 32, 33, 33, 34, 34,\n",
        "        35, 35, 35.5, 35.5, 36.]\n",
        "\n",
        "# Tính toán giá trị trung bình và sai số chuẩn của trung bình (SEM)\n",
        "mean = np.mean(data)\n",
        "sem = st.sem(data)\n",
        "\n",
        "# Tạo khoảng tin cậy 95% bằng phân phối chuẩn\n",
        "conf_interval = st.norm.interval(confidence=0.95, loc=mean, scale=sem)\n",
        "conf_interval\n"
      ]
    },
    {
      "cell_type": "markdown",
      "metadata": {
        "id": "PrRKRM4enC4s"
      },
      "source": [
        "**Bài tập 4.** Giả sử có một mẫu dữ liệu gồm khối lượng (gam) của 10 quả táo như\n",
        "sau:\n",
        "98, 102, 95, 105, 99, 101, 97, 103, 100, 98.\n",
        "Hãy kiểm tra xem khối lượng trung bình của những quả táo có sai khác 100 gam hay\n",
        "không."
      ]
    },
    {
      "cell_type": "markdown",
      "metadata": {
        "id": "jq3e3OaynJkg"
      },
      "source": [
        "Với ví dụ này, kích thước mẫu n = 10 < 30 và trường hợp chưa biết phương sai\n",
        "nên ta sử dụng phân phối student để thực hiện kiểm định (ttes_1samp)"
      ]
    },
    {
      "cell_type": "code",
      "execution_count": 34,
      "metadata": {
        "colab": {
          "base_uri": "https://localhost:8080/"
        },
        "id": "Z9OmHO_RnNGK",
        "outputId": "6cf25415-aea1-4d02-9cb2-c5cc8f974c58"
      },
      "outputs": [
        {
          "name": "stdout",
          "output_type": "stream",
          "text": [
            "Giá trị t quan sát: -0.2100420126042044\n",
            "Giá trị t tới hạn (±t_0.025): ±2.2621571628540993\n",
            "Miền bác bỏ giả thuyết: (-2.2621571628540993, 2.2621571628540993)\n",
            "Fail to Reject Null Hypothesis\n"
          ]
        }
      ],
      "source": [
        "import numpy as np\n",
        "from scipy.stats import ttest_1samp, t\n",
        "\n",
        "# Load the data\n",
        "data = np.array([98, 102, 95, 105, 99, 101, 97, 103, 100, 98])\n",
        "\n",
        "# Define the hypothesized value\n",
        "hypothesized_value = 100\n",
        "\n",
        "# Perform the One Sample T-Test\n",
        "t_statistic, p_value = ttest_1samp(data, hypothesized_value)\n",
        "\n",
        "# Calculate degrees of freedom\n",
        "df = len(data) - 1\n",
        "\n",
        "# Calculate critical t-value for a two-tailed test\n",
        "alpha = 0.05\n",
        "t_critical = t.ppf(1 - alpha/2, df)\n",
        "\n",
        "# Determine rejection region\n",
        "rejection_region = (-t_critical, t_critical)\n",
        "\n",
        "# Print results\n",
        "print(f\"Giá trị t quan sát: {t_statistic}\")\n",
        "print(f\"Giá trị t tới hạn (±t_{alpha/2}): ±{t_critical}\")\n",
        "print(f\"Miền bác bỏ giả thuyết: {rejection_region}\")\n",
        "\n",
        "# Interpretation\n",
        "if abs(t_statistic) > t_critical:\n",
        "    print(\"Reject Null Hypothesis\")\n",
        "else:\n",
        "    print(\"Fail to Reject Null Hypothesis\")\n",
        "\n"
      ]
    }
  ],
  "metadata": {
    "colab": {
      "provenance": []
    },
    "kernelspec": {
      "display_name": "Python 3",
      "name": "python3"
    },
    "language_info": {
      "name": "python"
    }
  },
  "nbformat": 4,
  "nbformat_minor": 0
}
