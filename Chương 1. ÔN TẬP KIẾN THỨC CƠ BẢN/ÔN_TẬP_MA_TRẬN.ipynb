{
  "cells": [
    {
      "cell_type": "code",
      "execution_count": 3,
      "metadata": {
        "colab": {
          "base_uri": "https://localhost:8080/"
        },
        "id": "ogt6V97wU8_Q",
        "outputId": "8349535e-b2eb-4d2d-bed1-5d1dea5bf499"
      },
      "outputs": [
        {
          "ename": "ModuleNotFoundError",
          "evalue": "No module named 'numpy'",
          "output_type": "error",
          "traceback": [
            "\u001b[1;31m---------------------------------------------------------------------------\u001b[0m",
            "\u001b[1;31mModuleNotFoundError\u001b[0m                       Traceback (most recent call last)",
            "Cell \u001b[1;32mIn[3], line 2\u001b[0m\n\u001b[0;32m      1\u001b[0m get_ipython()\u001b[38;5;241m.\u001b[39msystem(\u001b[38;5;124m'\u001b[39m\u001b[38;5;124mpip install numpy\u001b[39m\u001b[38;5;124m'\u001b[39m)\n\u001b[1;32m----> 2\u001b[0m \u001b[38;5;28;01mimport\u001b[39;00m \u001b[38;5;21;01mnumpy\u001b[39;00m \u001b[38;5;28;01mas\u001b[39;00m \u001b[38;5;21;01mnp\u001b[39;00m\n\u001b[0;32m      4\u001b[0m \u001b[38;5;66;03m# initializing matrices\u001b[39;00m\n\u001b[0;32m      5\u001b[0m x \u001b[38;5;241m=\u001b[39m np\u001b[38;5;241m.\u001b[39marray([[\u001b[38;5;241m1\u001b[39m, \u001b[38;5;241m2\u001b[39m], [\u001b[38;5;241m4\u001b[39m, \u001b[38;5;241m5\u001b[39m]])\n",
            "\u001b[1;31mModuleNotFoundError\u001b[0m: No module named 'numpy'"
          ]
        }
      ],
      "source": [
        "import numpy as np\n",
        "\n",
        "# initializing matrices\n",
        "x = np.array([[1, 2], [4, 5]])\n",
        "y = np.array([[7, 8], [9, 10]])\n",
        "\n",
        "#Cộng hai ma trận\n",
        "print(np.add(x, y))\n",
        "\n",
        "#Trừ hai ma trận\n",
        "print(np.subtract(x, y))\n",
        "\n",
        "#Chia hai ma trận tương ứng theo từng phần tử\n",
        "print(np.divide(x, y))\n",
        "\n",
        "#Nhân hai ma trận tương ứng theo từng phần tử\n",
        "print(np.multiply(x, y))\n",
        "\n",
        "#Nhân hai ma trận (Cector hàng nhân vô hướng vector cột)\n",
        "print(np.dot(x, y))\n",
        "\n",
        "#Ma trận chuyển vị\n",
        "print(x.T)\n",
        "\n",
        "#Ma trận nghịch đảo\n",
        "print(np.linalg.inv(x))\n",
        "\n",
        "#Định thức ma trận\n",
        "print(np.linalg.det(x))"
      ]
    }
  ],
  "metadata": {
    "colab": {
      "provenance": []
    },
    "kernelspec": {
      "display_name": "Python 3",
      "name": "python3"
    },
    "language_info": {
      "codemirror_mode": {
        "name": "ipython",
        "version": 3
      },
      "file_extension": ".py",
      "mimetype": "text/x-python",
      "name": "python",
      "nbconvert_exporter": "python",
      "pygments_lexer": "ipython3",
      "version": "3.12.5"
    }
  },
  "nbformat": 4,
  "nbformat_minor": 0
}
